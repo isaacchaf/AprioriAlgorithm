{
 "cells": [
  {
   "cell_type": "code",
   "execution_count": 1,
   "metadata": {},
   "outputs": [],
   "source": [
    "# Isaac Emmanuel Chávez Fuentes \n",
    "# Apriori Algorithm"
   ]
  },
  {
   "cell_type": "code",
   "execution_count": 2,
   "metadata": {},
   "outputs": [],
   "source": [
    "transactions = [['bread','milk','butter', 'beer'], \n",
    "            ['bread','butter','water', 'jam', 'beer'], \n",
    "            ['beer','diapers','bread','butter', 'jam'], \n",
    "            ['butter','milk', 'juice'],\n",
    "            ['diapers', 'beer', 'juice', 'apple']]\n",
    "\n",
    "minSupport = .5"
   ]
  },
  {
   "cell_type": "code",
   "execution_count": 3,
   "metadata": {},
   "outputs": [],
   "source": [
    "itemset = []\n",
    "itemset = {}\n",
    "# Count the number of apperances of each product\n",
    "for transaction in transactions:\n",
    "    for item in transaction:\n",
    "        if item not in itemset.keys():\n",
    "            itemset[item] = 1\n",
    "        else:\n",
    "            itemset.update({item :itemset[item] +1})"
   ]
  },
  {
   "cell_type": "code",
   "execution_count": 4,
   "metadata": {
    "scrolled": true
   },
   "outputs": [
    {
     "name": "stdout",
     "output_type": "stream",
     "text": [
      "{'bread': 3, 'milk': 2, 'butter': 4, 'beer': 4, 'water': 1, 'jam': 2, 'diapers': 2, 'juice': 2, 'apple': 1}\n"
     ]
    }
   ],
   "source": [
    "print(itemset)\n"
   ]
  },
  {
   "cell_type": "code",
   "execution_count": 5,
   "metadata": {},
   "outputs": [
    {
     "name": "stdout",
     "output_type": "stream",
     "text": [
      "['bread', 'butter', 'beer']\n"
     ]
    }
   ],
   "source": [
    "# MinSupport .5\n",
    "#Calculate the support\n",
    "transactions_num = len(transactions)\n",
    "remaining1 = []\n",
    "dict_1 = {}\n",
    "for item in itemset.keys():\n",
    "    # Prune the data\n",
    "    if (itemset[item]/transactions_num) >= minSupport:\n",
    "        remaining1.append(item)\n",
    "        dict_1[item] = itemset[item]/transactions_num\n",
    "                         \n",
    "print(remaining1)"
   ]
  },
  {
   "cell_type": "code",
   "execution_count": 6,
   "metadata": {},
   "outputs": [
    {
     "name": "stdout",
     "output_type": "stream",
     "text": [
      "[('bread', 'butter'), ('bread', 'beer'), ('butter', 'beer')]\n"
     ]
    }
   ],
   "source": [
    "from itertools import combinations \n",
    "\n",
    "\n",
    "# Generate the possible combinations with the remaining items\n",
    "def rSubset(arr, r): \n",
    "  \n",
    "    # return list of all subsets of length r \n",
    "    # to deal with duplicate subsets use  \n",
    "    # set(list(combinations(arr, r))) \n",
    "    return list(combinations(arr, r)) \n",
    "pair_list = rSubset(remaining1, 2)\n",
    "    \n",
    "print(pair_list) \n"
   ]
  },
  {
   "cell_type": "code",
   "execution_count": 7,
   "metadata": {},
   "outputs": [],
   "source": [
    "\n",
    "# Transform our tuples into str\n",
    "pair_dict = {}\n",
    "for pairs in pair_list:\n",
    "    pairs_s = str(pairs)\n",
    "    pair_dict[pairs_s] = 0\n",
    "\n",
    "# Count the number of apperance of the pairs in the transaction\n",
    "for pairs in pair_list:\n",
    "    for transaction in transactions:\n",
    "        if pairs[0] in transaction and pairs[1] in transaction:\n",
    "            pairs_s = str(pairs)\n",
    "            pair_dict[pairs_s] = pair_dict[pairs_s]+1"
   ]
  },
  {
   "cell_type": "code",
   "execution_count": 8,
   "metadata": {},
   "outputs": [
    {
     "data": {
      "text/plain": [
       "{\"('bread', 'butter')\": 3, \"('bread', 'beer')\": 3, \"('butter', 'beer')\": 3}"
      ]
     },
     "execution_count": 8,
     "metadata": {},
     "output_type": "execute_result"
    }
   ],
   "source": [
    "pair_dict"
   ]
  },
  {
   "cell_type": "code",
   "execution_count": 9,
   "metadata": {},
   "outputs": [
    {
     "name": "stdout",
     "output_type": "stream",
     "text": [
      "[('bread', 'butter'), ('bread', 'beer'), ('butter', 'beer')]\n"
     ]
    }
   ],
   "source": [
    "\n",
    "remaining2 = []\n",
    "num = 0\n",
    "dict_2 = {}\n",
    "\n",
    "#Calculate the support\n",
    "for pair in pair_dict.keys(): \n",
    "    # Prune the data\n",
    "    if (pair_dict[pair]/transactions_num) >= minSupport:\n",
    "        remaining2.append(pair_list[num])\n",
    "        dict_2[pair] = pair_dict[pair]/transactions_num\n",
    "    num +=1\n",
    "    \n",
    "print(remaining2)"
   ]
  },
  {
   "cell_type": "code",
   "execution_count": 10,
   "metadata": {},
   "outputs": [
    {
     "name": "stdout",
     "output_type": "stream",
     "text": [
      "[('bread', 'butter', 'beer')]\n",
      "['bread', 'butter', 'beer']\n"
     ]
    }
   ],
   "source": [
    "# Three items\n",
    "items3 = []\n",
    "\n",
    "#Generate a list with the remaining items\n",
    "for pair in remaining2:\n",
    "    if pair[0] not in items3:\n",
    "        items3.append(pair[0])\n",
    "    if pair[1] not in items3:\n",
    "        items3.append(pair[1])\n",
    "\n",
    "# Generate the possible combinations of 3 with the remaining items        \n",
    "three_list = rSubset(items3, 3)\n",
    "print(three_list)\n",
    "\n",
    "print(items3)"
   ]
  },
  {
   "cell_type": "code",
   "execution_count": 11,
   "metadata": {},
   "outputs": [
    {
     "name": "stdout",
     "output_type": "stream",
     "text": [
      "[('bread', 'butter'), ('bread', 'beer'), ('butter', 'beer'), ('bread', 'butter', 'beer')]\n"
     ]
    }
   ],
   "source": [
    "three_dict = {}\n",
    "dict_3 = {} \n",
    "# Change the tuples to srt for the keys in dictionary\n",
    "for three in three_list:\n",
    "    three_s = str(three)\n",
    "    three_dict[three_s] = 0\n",
    "\n",
    "# Count the apperances of the three items in the transactions \n",
    "for three in three_list:\n",
    "    for transaction in transactions:\n",
    "        if three[0] in transaction and three[1] in transaction and three[2] in transaction:\n",
    "            three_s = str(three)\n",
    "            three_dict[three_s] = three_dict[three_s]+1\n",
    "num = 0     \n",
    "# Prune the data\n",
    "for three in three_dict.keys():   \n",
    "    if (three_dict[three]/transactions_num) >= minSupport:\n",
    "        remaining2.append(three_list[num])\n",
    "        dict_3[three] = three_dict[three]/transactions_num\n",
    "    num =+1           \n",
    "print(remaining2)"
   ]
  },
  {
   "cell_type": "code",
   "execution_count": 12,
   "metadata": {},
   "outputs": [
    {
     "name": "stdout",
     "output_type": "stream",
     "text": [
      "{\"('bread', 'butter', 'beer')\": 3}\n"
     ]
    }
   ],
   "source": [
    "print(three_dict)"
   ]
  },
  {
   "cell_type": "code",
   "execution_count": 13,
   "metadata": {},
   "outputs": [
    {
     "name": "stdout",
     "output_type": "stream",
     "text": [
      "====================================\n",
      "Frequent 1-itemset is {'bread': 0.6, 'butter': 0.8, 'beer': 0.8}\n",
      "====================================\n",
      "====================================\n",
      "Frequent 2-itemset is {\"('bread', 'butter')\": 0.6, \"('bread', 'beer')\": 0.6, \"('butter', 'beer')\": 0.6}\n",
      "====================================\n",
      "====================================\n",
      "Frequent 3-itemset is {\"('bread', 'butter', 'beer')\": 0.6}\n",
      "====================================\n"
     ]
    }
   ],
   "source": [
    "print('====================================')\n",
    "print('Frequent 1-itemset is',dict_1)\n",
    "print('====================================')\n",
    "\n",
    "print('====================================')\n",
    "print('Frequent 2-itemset is',dict_2)\n",
    "print('====================================')\n",
    "\n",
    "print('====================================')\n",
    "print('Frequent 3-itemset is',dict_3)\n",
    "print('====================================')"
   ]
  }
 ],
 "metadata": {
  "kernelspec": {
   "display_name": "Python 3",
   "language": "python",
   "name": "python3"
  },
  "language_info": {
   "codemirror_mode": {
    "name": "ipython",
    "version": 3
   },
   "file_extension": ".py",
   "mimetype": "text/x-python",
   "name": "python",
   "nbconvert_exporter": "python",
   "pygments_lexer": "ipython3",
   "version": "3.7.7"
  }
 },
 "nbformat": 4,
 "nbformat_minor": 4
}
